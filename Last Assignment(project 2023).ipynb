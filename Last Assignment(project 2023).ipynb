{
 "cells": [
  {
   "cell_type": "markdown",
   "id": "62d26e03",
   "metadata": {},
   "source": [
    "<h1>My Jupyter Notebook on IBM Waston Studio</h1>"
   ]
  },
  {
   "cell_type": "markdown",
   "id": "0f19f522",
   "metadata": {},
   "source": [
    "<b>Min Thaw Phyo</b>"
   ]
  },
  {
   "cell_type": "markdown",
   "id": "30532f1e",
   "metadata": {},
   "source": [
    "<i>I am interested in data science because i like to find the relations between each data and each problem</i>"
   ]
  },
  {
   "cell_type": "markdown",
   "id": "488c5095",
   "metadata": {},
   "source": [
    "<h3>This code must executed the the 2 times of the input number</h3>"
   ]
  },
  {
   "cell_type": "code",
   "execution_count": 1,
   "id": "e0c1b08a",
   "metadata": {},
   "outputs": [
    {
     "data": {
      "text/plain": [
       "True"
      ]
     },
     "execution_count": 1,
     "metadata": {},
     "output_type": "execute_result"
    }
   ],
   "source": [
    "def twoTimes(val):\n",
    "    return val*2\n",
    "twoTimes(2) == 2*2"
   ]
  },
  {
   "cell_type": "markdown",
   "id": "b7cd3771",
   "metadata": {},
   "source": [
    "<ol>\n",
    "    <li>one</li>\n",
    "    <li>two</li>\n",
    "    <li>three</li>\n",
    "</ol>\n",
    "\n",
    "<ul>\n",
    "    <li>one</li>\n",
    "    <li>two</li>\n",
    "    <li>three</li>\n",
    "</ul>\n",
    "\n",
    "<a href=\"https://google.com\">Visit google.com!</a>\n",
    "\n",
    " \n",
    " \n",
    "    \n",
    "<blockquote cite=\"http://www.worldwildlife.org/who/index.html\">\n",
    "For 50 years, WWF has been protecting the future of nature. The world's leading conservation organization, WWF works in 100 countries and is supported by 1.2 million members in the United States and close to 5 million globally.\n",
    "</blockquote>"
   ]
  },
  {
   "cell_type": "code",
   "execution_count": null,
   "id": "0d720810",
   "metadata": {},
   "outputs": [],
   "source": []
  },
  {
   "cell_type": "code",
   "execution_count": null,
   "id": "86698c10",
   "metadata": {},
   "outputs": [],
   "source": []
  }
 ],
 "metadata": {
  "kernelspec": {
   "display_name": "Python 3 (ipykernel)",
   "language": "python",
   "name": "python3"
  },
  "language_info": {
   "codemirror_mode": {
    "name": "ipython",
    "version": 3
   },
   "file_extension": ".py",
   "mimetype": "text/x-python",
   "name": "python",
   "nbconvert_exporter": "python",
   "pygments_lexer": "ipython3",
   "version": "3.8.0"
  }
 },
 "nbformat": 4,
 "nbformat_minor": 5
}
